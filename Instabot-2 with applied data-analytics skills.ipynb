{
 "cells": [
  {
   "cell_type": "code",
   "execution_count": 2,
   "metadata": {},
   "outputs": [],
   "source": [
    "def login_into_insta():\n",
    "    driver.get(\"https://www.instagram.com/\");\n",
    "    wait.until(EC.presence_of_element_located((By.LINK_TEXT,'Log in')));\n",
    "\n",
    "\n",
    "    # moving from tge sign-up page to the login-page\n",
    "    log_in=driver.find_element_by_link_text(\"Log in\");\n",
    "    log_in.click()\n",
    "    wait.until(EC.presence_of_element_located((By.LINK_TEXT,'Forgot password?')));\n",
    "    # Actually It will take time load new page in which we will login into the account..this page was for sign-up and hence\n",
    "    # we need to click on login and then go to net page..........but as we need to wait for some-time...so I used the \n",
    "    # forgot_password text which is present on next page but not on this page....and other_input_box were directly_present \n",
    "    # so I had to use little bit trick and need to check for forgot-password?\n",
    "\n",
    "\n",
    "    # now we r filling the details of the login_page.......\n",
    "    user_name=driver.find_element_by_name(\"username\");\n",
    "    user_name.send_keys(\"kaushikjatin35\");\n",
    "    password=driver.find_element_by_name(\"password\");\n",
    "    password.send_keys(\"R070573k\");\n",
    "    log_in=driver.find_element_by_class_name(\"L3NKy\");\n",
    "    wait.until(EC.element_to_be_clickable((By.CLASS_NAME,'L3NKy')));\n",
    "    log_in.click()\n",
    "\n",
    "\n",
    "    # clicking on the pop-up for the turn-off notifications which comes agter logging in the id........\n",
    "    wait.until(EC.presence_of_element_located((By.CLASS_NAME,'HoLwm')));\n",
    "    turn_on_notification_not_now=driver.find_element_by_class_name(\"HoLwm\");\n",
    "    turn_on_notification_not_now.click();"
   ]
  },
  {
   "cell_type": "code",
   "execution_count": 8,
   "metadata": {},
   "outputs": [],
   "source": [
    "def hadlers_related_to_food():\n",
    "    search=driver.find_element_by_class_name(\"XTCLo\");\n",
    "    search.send_keys(\"food\");\n",
    "    wait.until(EC.presence_of_element_located((By.CLASS_NAME,'Ap253')));\n",
    "\n",
    "\n",
    "    names=driver.find_elements_by_class_name(\"Ap253\");\n",
    "    list_of_handlers=[]\n",
    "    for i in names:\n",
    "        if(i.text[0]!=\"#\"):\n",
    "            list_of_handlers.append(i.text);\n",
    "    search=driver.find_element_by_class_name(\"XTCLo\");\n",
    "    cross=driver.find_element_by_class_name(\"aIYm8\"); # this is for clearing the \"food\" \n",
    "    cross.click();# simple sysem.clear() would just clear the search..but the dropdown list still appears..\n",
    "    return list_of_handlers;"
   ]
  },
  {
   "cell_type": "markdown",
   "metadata": {},
   "source": [
    "# Question1........."
   ]
  },
  {
   "cell_type": "code",
   "execution_count": 9,
   "metadata": {},
   "outputs": [],
   "source": [
    "def find_the_top_5_handlers(list_of_handlers):\n",
    "    search=driver.find_element_by_class_name(\"XTCLo\");\n",
    "    for i in list_of_handlers:\n",
    "        search.send_keys(i);\n",
    "        search.click();\n",
    "        \n",
    "        \n",
    "    \n",
    "        "
   ]
  },
  {
   "cell_type": "code",
   "execution_count": 10,
   "metadata": {},
   "outputs": [],
   "source": [
    "import time;\n",
    "import numpy as np;\n",
    "from selenium import webdriver;\n",
    "from selenium.webdriver.common.keys import Keys\n",
    "from selenium.webdriver.support.ui import WebDriverWait\n",
    "from selenium.webdriver.support import expected_conditions as EC;\n",
    "from selenium.webdriver.common.by import By;\n",
    "driver=webdriver.Chrome(executable_path=\"/Users/jatinkaushik/Downloads/chromedriver\");\n",
    "driver.maximize_window();\n",
    "wait=WebDriverWait(driver,10);\n",
    "\n",
    "login_into_insta();\n",
    "list_of_handlers_related_to_food=hadlers_related_to_food();\n",
    "#top_5_hadlers=find_the_top_5_handlers(list_of_handlers_related_to_food);"
   ]
  },
  {
   "cell_type": "code",
   "execution_count": 6,
   "metadata": {},
   "outputs": [],
   "source": [
    "list_of_handlers_related_to_food=hadlers_related_to_food();"
   ]
  },
  {
   "cell_type": "code",
   "execution_count": 11,
   "metadata": {},
   "outputs": [
    {
     "name": "stdout",
     "output_type": "stream",
     "text": [
      "['foodtalkindia', 'dilsefoodie', 'foodsile', 'food_lunatic', 'foodie_incarnate', 'foodiewithluv', 'food', 'Food Garage NH-1', 'Food Garage HUDA', 'thisisinsiderfood', 'mumbaifoodie', 'foodlty', 'foodconnectindia', 'foodness_hotness', 'foodhallindia', 'foodbloggerai', 'healthy.food.addiction', 'foodelhi', 'BFF - Beer Food Feast', 'foodgod', 'love_food', 'foodie_naari_', 'foodsteez', 'rice__and__more', 'healthy.foodyss', 'buzzfeedfood', 'love_food_extra', 'foodydiy', 'foodarto', 'fooddrifter', 'detoxpage', 'foodholic.mumbai', 'yourfoodlab', 'foodnetwork', 'food.as.fuel', 'foodofmumbai']\n"
     ]
    }
   ],
   "source": [
    "print(list_of_handlers_related_to_food)"
   ]
  }
 ],
 "metadata": {
  "kernelspec": {
   "display_name": "Python 3",
   "language": "python",
   "name": "python3"
  },
  "language_info": {
   "codemirror_mode": {
    "name": "ipython",
    "version": 3
   },
   "file_extension": ".py",
   "mimetype": "text/x-python",
   "name": "python",
   "nbconvert_exporter": "python",
   "pygments_lexer": "ipython3",
   "version": "3.7.3"
  }
 },
 "nbformat": 4,
 "nbformat_minor": 2
}
