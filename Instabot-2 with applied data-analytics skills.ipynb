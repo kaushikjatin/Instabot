{
 "cells": [
  {
   "cell_type": "code",
   "execution_count": 100,
   "metadata": {},
   "outputs": [],
   "source": [
    "def login_into_insta():\n",
    "    driver.get(\"https://www.instagram.com/\");\n",
    "    wait.until(EC.presence_of_element_located((By.LINK_TEXT,'Log in')));\n",
    "\n",
    "\n",
    "    # moving from tge sign-up page to the login-page\n",
    "    log_in=driver.find_element_by_link_text(\"Log in\");\n",
    "    log_in.click()\n",
    "    wait.until(EC.presence_of_element_located((By.LINK_TEXT,'Forgot password?')));\n",
    "    # Actually It will take time load new page in which we will login into the account..this page was for sign-up and hence\n",
    "    # we need to click on login and then go to net page..........but as we need to wait for some-time...so I used the \n",
    "    # forgot_password text which is present on next page but not on this page....and other_input_box were directly_present \n",
    "    # so I had to use little bit trick and need to check for forgot-password?\n",
    "\n",
    "\n",
    "    # now we r filling the details of the login_page.......\n",
    "    user_name=driver.find_element_by_name(\"username\");\n",
    "    user_name.send_keys(\"kaushikjatin35\");\n",
    "    password=driver.find_element_by_name(\"password\");\n",
    "    password.send_keys(\"R070573k\");\n",
    "    log_in=driver.find_element_by_class_name(\"L3NKy\");\n",
    "    wait.until(EC.element_to_be_clickable((By.CLASS_NAME,'L3NKy')));\n",
    "    log_in.click()\n",
    "\n",
    "\n",
    "    # clicking on the pop-up for the turn-off notifications which comes agter logging in the id........\n",
    "    wait.until(EC.presence_of_element_located((By.CLASS_NAME,'HoLwm')));\n",
    "    turn_on_notification_not_now=driver.find_element_by_class_name(\"HoLwm\");\n",
    "    turn_on_notification_not_now.click();"
   ]
  },
  {
   "cell_type": "markdown",
   "metadata": {},
   "source": [
    "# Question1........."
   ]
  },
  {
   "cell_type": "code",
   "execution_count": 99,
   "metadata": {},
   "outputs": [],
   "source": [
    "def go_through_1st_10_handlers():\n",
    "    dict1={};\n",
    "    no=0;\n",
    "    i=0;\n",
    "    search=driver.find_element_by_class_name(\"XTCLo\");\n",
    "    search.send_keys(\"food\");\n",
    "    wait.until(EC.presence_of_element_located((By.CLASS_NAME,'yCE8d')))# this is for waiting for the dropdown to come..\n",
    "    links=driver.find_elements_by_class_name(\"yCE8d\");\n",
    "    tag_which_has_name=driver.find_elements_by_class_name(\"Ap253\");\n",
    "    while True:\n",
    "        name=tag_which_has_name[i].text;\n",
    "        if(name[0]!='#'):\n",
    "            links[i].click();\n",
    "            wait.until(EC.presence_of_element_located((By.CLASS_NAME,'k9GMp ')));\n",
    "            dict1[name]=0;\n",
    "            followers_span=driver.find_element_by_xpath(\"//section[@class='zwlfE']/ul/li[2]/a/span\");\n",
    "            dict1[name]+=int(followers_span.get_attribute('title').replace(',',''));\n",
    "            no+=1;\n",
    "            driver.back();\n",
    "            time.sleep(1);\n",
    "            if(no==10):    \n",
    "                return dict1;\n",
    "            search=driver.find_element_by_class_name(\"XTCLo\");\n",
    "            search.send_keys(\"food\");\n",
    "            wait.until(EC.presence_of_element_located((By.CLASS_NAME,'yCE8d')))# this is for waiting for the dropdown to come..\n",
    "            links=driver.find_elements_by_class_name(\"yCE8d\");\n",
    "            tag_which_has_name=driver.find_elements_by_class_name(\"Ap253\");    \n",
    "        i+=1;\n",
    "        \n",
    "    \n",
    "        "
   ]
  },
  {
   "cell_type": "code",
   "execution_count": 98,
   "metadata": {},
   "outputs": [],
   "source": [
    "def print_top_5_handlers(dict1):\n",
    "    print(\"THE HANDLERS WITH THEIR RESPECTIVE FOLLOWERS......\")\n",
    "    for i in list(dict1.keys()):\n",
    "        print(i,dict1[i]);\n",
    "    print();print();\n",
    "\n",
    "\n",
    "    print(\"TOP 5 HANDLERS WITH MAX. FOLLOWERS........\")\n",
    "    names=np.array(list(dict1.keys()));\n",
    "    values=np.array(list(dict1.values()));\n",
    "    handlers_top_5=[];\n",
    "    for i in range(0,5):\n",
    "        index=values.argmax();\n",
    "        handlers_top_5.append(names[index]);\n",
    "        values[index]=0;\n",
    "\n",
    "\n",
    "    for i in handlers_top_5:\n",
    "        print(i);\n",
    "    return handlers_top_5;"
   ]
  },
  {
   "cell_type": "code",
   "execution_count": null,
   "metadata": {},
   "outputs": [],
   "source": [
    "def print_no_of_posts_they_did_in_last_3_days(names):\n",
    "    for i in names:\n",
    "        search=driver.find_element_by_class_name(\"XTCLo\");\n",
    "        search.send_keys(i);\n",
    "        wait.until(EC.presence_of_element_located((By.CLASS_NAME,'yCE8d')))# this is for waiting for the dropdown to come..\n",
    "        link=driver.find_element_by_class_name(\"yCE8d\");\n",
    "        link.click();\n",
    "        wait.until(EC.presence_of_element_located((By.CLASS_NAME,'_9AhH0')));# this will wait until we don't find the posts...\n",
    "        posts=driver.find_elements_by_class_name('_9AhH0');\n",
    "        flag=True;\n",
    "        while(flag):\n",
    "            \n",
    "        "
   ]
  },
  {
   "cell_type": "code",
   "execution_count": 95,
   "metadata": {},
   "outputs": [
    {
     "name": "stdout",
     "output_type": "stream",
     "text": [
      "THE HANDLERS WITH THEIR RESPECTIVE FOLLOWERS......\n",
      "foodtalkindia 290995\n",
      "dilsefoodie 351210\n",
      "foodsile 497158\n",
      "thisisinsiderfood 2194090\n",
      "food_lunatic 65655\n",
      "foodiewithluv 50736\n",
      "food 8245\n",
      "foodie_incarnate 153180\n",
      "foodlty 1600527\n",
      "buzzfeedfood 3786160\n",
      "\n",
      "\n",
      "TOP 5 HANDLERS WITH MAX. FOLLOWERS........\n",
      "buzzfeedfood\n",
      "thisisinsiderfood\n",
      "foodlty\n",
      "foodsile\n",
      "dilsefoodie\n"
     ]
    }
   ],
   "source": [
    "import time;\n",
    "import numpy as np;\n",
    "from selenium import webdriver;\n",
    "from datetime import datetime\n",
    "from selenium.webdriver.common.keys import Keys\n",
    "from selenium.webdriver.support.ui import WebDriverWait\n",
    "from selenium.webdriver.support import expected_conditions as EC;\n",
    "from selenium.webdriver.common.by import By;\n",
    "driver=webdriver.Chrome(executable_path=\"/Users/jatinkaushik/Downloads/chromedriver\");\n",
    "driver.maximize_window();\n",
    "wait=WebDriverWait(driver,10);\n",
    "login_into_insta();\n",
    "\n",
    "\n",
    "#OUR QUESTION 1 STARTS FROM HERE...............\n",
    "\n",
    "     # first part of 1st question\n",
    "dict1=go_through_1st_10_handlers()\n",
    "top_5_handlers=print_top_5_handlers(dict1);\n",
    "     # 2nd part of 1st question\n",
    "print_no_of_posts_they_did_in_last_3_days(top_5);\n",
    "\n",
    "    \n",
    "\n",
    "\n"
   ]
  },
  {
   "cell_type": "code",
   "execution_count": 83,
   "metadata": {},
   "outputs": [],
   "source": [
    "driver.back();"
   ]
  },
  {
   "cell_type": "code",
   "execution_count": 101,
   "metadata": {},
   "outputs": [
    {
     "name": "stdout",
     "output_type": "stream",
     "text": [
      "THE HANDLERS WITH THEIR RESPECTIVE FOLLOWERS......\n",
      "foodtalkindia 290995\n",
      "dilsefoodie 351210\n",
      "foodsile 497158\n",
      "thisisinsiderfood 2194090\n",
      "food_lunatic 65655\n",
      "foodiewithluv 50736\n",
      "food 8245\n",
      "foodie_incarnate 153180\n",
      "foodgod 3489928\n",
      "foodlty 1600527\n",
      "\n",
      "\n",
      "TOP 5 HANDLERS WITH MAX. FOLLOWERS........\n",
      "foodgod\n",
      "thisisinsiderfood\n",
      "foodlty\n",
      "foodsile\n",
      "dilsefoodie\n"
     ]
    }
   ],
   "source": [
    "dict1=go_through_1st_10_handlers()\n",
    "print_top_5_handlers(dict1);"
   ]
  },
  {
   "cell_type": "code",
   "execution_count": 102,
   "metadata": {},
   "outputs": [
    {
     "data": {
      "text/plain": [
       "'2020-02-21'"
      ]
     },
     "execution_count": 102,
     "metadata": {},
     "output_type": "execute_result"
    }
   ],
   "source": [
    "from datetime import datetime\n",
    "datetime.today().strftime('%Y-%m-%d')"
   ]
  }
 ],
 "metadata": {
  "kernelspec": {
   "display_name": "Python 3",
   "language": "python",
   "name": "python3"
  },
  "language_info": {
   "codemirror_mode": {
    "name": "ipython",
    "version": 3
   },
   "file_extension": ".py",
   "mimetype": "text/x-python",
   "name": "python",
   "nbconvert_exporter": "python",
   "pygments_lexer": "ipython3",
   "version": "3.7.3"
  }
 },
 "nbformat": 4,
 "nbformat_minor": 2
}
